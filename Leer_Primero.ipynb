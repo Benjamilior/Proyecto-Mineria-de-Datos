{
  "nbformat": 4,
  "nbformat_minor": 0,
  "metadata": {
    "colab": {
      "name": "Leer Primero.ipynb",
      "provenance": [],
      "authorship_tag": "ABX9TyNgKrhGWRmpvJw+A2lqtJ6f",
      "include_colab_link": true
    },
    "kernelspec": {
      "name": "python3",
      "display_name": "Python 3"
    },
    "language_info": {
      "name": "python"
    }
  },
  "cells": [
    {
      "cell_type": "markdown",
      "metadata": {
        "id": "view-in-github",
        "colab_type": "text"
      },
      "source": [
        "<a href=\"https://colab.research.google.com/github/Benjamilior/proyecy_miner_02/blob/main/Leer_Primero.ipynb\" target=\"_parent\"><img src=\"https://colab.research.google.com/assets/colab-badge.svg\" alt=\"Open In Colab\"/></a>"
      ]
    },
    {
      "cell_type": "markdown",
      "source": [
        "En el siguiente repositirio de Github esta el archivo Proyecto_Mineria_Programa_Final: que es el programa final requerido para el proyecto\n",
        "Modelos_de_Clusters: Donde está el desarollo de ambos modelos de clusters\n",
        "Informe Proyecto: Donde esta el detalle de la documentacion requerida para este proyecto.\n"
      ],
      "metadata": {
        "id": "OZHrHt_bvAbr"
      }
    },
    {
      "cell_type": "code",
      "source": [
        ""
      ],
      "metadata": {
        "id": "L6MKxK7evRVL"
      },
      "execution_count": null,
      "outputs": []
    },
    {
      "cell_type": "markdown",
      "source": [
        "El Proyecto final pide que se ingresen ciertos parametros, uno de ellos es un token de acceso. El como conseguirlo se detalla en el programa."
      ],
      "metadata": {
        "id": "SW2TeCxcvmgz"
      }
    },
    {
      "cell_type": "code",
      "source": [
        "El programa final genera la lista de cancion en un formato de DataFrame( ya que no el enunciado no espeficica como era la entrega)"
      ],
      "metadata": {
        "id": "92EfL6MQv2jC"
      },
      "execution_count": null,
      "outputs": []
    }
  ]
}