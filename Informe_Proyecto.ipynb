{
  "nbformat": 4,
  "nbformat_minor": 0,
  "metadata": {
    "colab": {
      "name": "Informe Proyecto.ipynb",
      "provenance": [],
      "authorship_tag": "ABX9TyOcPggls6nlX2RAdbEy61aM",
      "include_colab_link": true
    },
    "kernelspec": {
      "name": "python3",
      "display_name": "Python 3"
    },
    "language_info": {
      "name": "python"
    }
  },
  "cells": [
    {
      "cell_type": "markdown",
      "metadata": {
        "id": "view-in-github",
        "colab_type": "text"
      },
      "source": [
        "<a href=\"https://colab.research.google.com/github/Benjamilior/proyecy_miner_02/blob/main/Informe_Proyecto.ipynb\" target=\"_parent\"><img src=\"https://colab.research.google.com/assets/colab-badge.svg\" alt=\"Open In Colab\"/></a>"
      ]
    },
    {
      "cell_type": "code",
      "execution_count": null,
      "metadata": {
        "id": "ouo0nQW9t87V"
      },
      "outputs": [],
      "source": [
        "#etapas de su proceso, los dos modelos de clustering utilizados, la comparación y\n",
        "#justificación del uso de uno de esos modelos, los resultados obtenidos, y el có digo empleado."
      ]
    }
  ]
}