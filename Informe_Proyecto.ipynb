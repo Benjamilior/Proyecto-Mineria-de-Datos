{
  "nbformat": 4,
  "nbformat_minor": 0,
  "metadata": {
    "colab": {
      "name": "Informe Proyecto.ipynb",
      "provenance": [],
      "authorship_tag": "ABX9TyNZ/TDilMcvLIJb7Tt96GY0",
      "include_colab_link": true
    },
    "kernelspec": {
      "name": "python3",
      "display_name": "Python 3"
    },
    "language_info": {
      "name": "python"
    }
  },
  "cells": [
    {
      "cell_type": "markdown",
      "metadata": {
        "id": "view-in-github",
        "colab_type": "text"
      },
      "source": [
        "<a href=\"https://colab.research.google.com/github/Benjamilior/proyecy_miner_02/blob/main/Informe_Proyecto.ipynb\" target=\"_parent\"><img src=\"https://colab.research.google.com/assets/colab-badge.svg\" alt=\"Open In Colab\"/></a>"
      ]
    },
    {
      "cell_type": "markdown",
      "source": [
        "Integrantes: Benjamin Muñoz"
      ],
      "metadata": {
        "id": "1EUt9O4u1dEA"
      }
    },
    {
      "cell_type": "markdown",
      "source": [
        "Objetivo del Programa: Entregar al usuario una playlist con canciones similares a la cancion que el ingreso. "
      ],
      "metadata": {
        "id": "mWD2idgqzd1F"
      }
    },
    {
      "cell_type": "markdown",
      "source": [
        "Los dos modelos de Clusters Usados en este trabajo son: K-Means y Jerarquico. Tambien se intento usar el modelo DBSCAN pero se descarto rapidamente su uso, debido a que los datos presentaba mucha densidad ( Se deja el codigo de este, de todos modos en el notebook de los modelos)"
      ],
      "metadata": {
        "id": "zbTOIJhcxnd8"
      }
    },
    {
      "cell_type": "markdown",
      "source": [
        "La Primera etapa del proceso del programa final es la conexion que se hace con la conexion de Spotify, se programo de tal manera que el usuario al ingresar el id de una cancion de spotify, el programa nos arroja un DataFrame con toda la informacion de dicha cancion ( con dicha informacion se pasa la cancion por el modelo selecionado y queda en un cluster, luego de ese cluster de donde quedo la cancion ingresada por el usario, se sacan las demas cancion del mismo cluster para hacer la playlist)"
      ],
      "metadata": {
        "id": "3FisC0BJyUfF"
      }
    },
    {
      "cell_type": "markdown",
      "source": [
        "La Segunda etapa es aplicar el modelo K-Means para los datos. En primer lugar para la extraccion de estos de uso la Api de spotify y se pasaron a un formato csv, las cuales luego fueron subidas al respositorio de github y usadas en el programa. Ya con los DataFrame siendo leidos en programa se procede a sacar las columnas que no aportan informacion relevante al programa ( como se elgieron estas columnas se detalla mas adelante). Luego se procede a ver el rendmiento del modelo para buscar el K optimo para la cantidad de clusters, que en este caso es 3. Sin embargo este K optimo no se respeta, con fines pedagogicos, ya que es mas interesante observar que pasa con el programa y los clusters cuando hay una mayor cantidad de clusters."
      ],
      "metadata": {
        "id": "hm789BmGyUag"
      }
    },
    {
      "cell_type": "markdown",
      "source": [
        "Ya aplicado el K-Means y formado los clusters, se crea una columna nueva en el dataframe con la columna \"kMEANS\", la cual se agrega al DataFrame original, para saber así que cancion va con que Clusters"
      ],
      "metadata": {
        "id": "1-gKUlrMyUTA"
      }
    },
    {
      "cell_type": "markdown",
      "source": [
        "Luego y en el ultimo paso del programa se crea un ultimo DataFrame con solo canciones que esten en el mismo cluster que la cancion que ingreso el usuario."
      ],
      "metadata": {
        "id": "6VPWQ9alyUFy"
      }
    },
    {
      "cell_type": "markdown",
      "source": [
        "Para probar ambos modelos se usaron una menor cantidad de datos que en el DataFrame usado en el modelo final, principalmente porque con el DataFrame completo el programa de cluster jerarquico nunca terminaba se correr. Espere varias Horas y nunca termino de correr, asi que decidi probar ambos modelos con una cantidad menor de datos. "
      ],
      "metadata": {
        "id": "nWrNBRYJ1Jqp"
      }
    },
    {
      "cell_type": "markdown",
      "source": [
        "Así que la principal razon del porque se usa K-Means y no el modelo jerarquico es por la optimizacion de recursos. Ya que el modelo Jerarquico nunca termino de Correr."
      ],
      "metadata": {
        "id": "7AMR-uue1oF2"
      }
    },
    {
      "cell_type": "markdown",
      "source": [
        "Finalemnte y dando explicacion a las variables utilizadas, en ambos modelos se usaron variables similares, ya que en ambos modelos se debian de normalizar las variables. Entonces con analisis empirico y leyendo la documentacion de la Api se dejaro fuera las variables que eran irrelevante para nuestro objetivo, estas fueron: Duracion_ms, ide, intrumentalness, key, mode, speechines, type, time_signature. Luego para K-means la variable loudenees tuvo que ser normalizada para poder ser ocuada por el modelo. "
      ],
      "metadata": {
        "id": "X2qXObIb2ftq"
      }
    },
    {
      "cell_type": "markdown",
      "source": [
        "Los resultados del modelo Jerarquico son satisfactorios, llegando a buenos resultados pero su poca eficiciencia y su N3 es demasiado costoso para poder usarse con tantos datos."
      ],
      "metadata": {
        "id": "x1kh4-ap34dS"
      }
    }
  ]
}